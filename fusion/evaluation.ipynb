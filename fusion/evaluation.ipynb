{
 "cells": [
  {
   "cell_type": "code",
   "execution_count": 1,
   "id": "11b0b631-c0b5-4e65-9627-d4e4886c942d",
   "metadata": {},
   "outputs": [
    {
     "name": "stdout",
     "output_type": "stream",
     "text": [
      "Jupyter environment detected. Enabling Open3D WebVisualizer.\n",
      "[Open3D INFO] WebRTC GUI backend enabled.\n",
      "[Open3D INFO] WebRTCWindowSystem: HTTP handshake server disabled.\n"
     ]
    }
   ],
   "source": [
    "import numpy as np\n",
    "import pandas as pd\n",
    "import open3d as o3d\n",
    "\n",
    "from pathlib import Path"
   ]
  },
  {
   "cell_type": "code",
   "execution_count": 2,
   "id": "50cd9bcb-da7d-4121-a5a1-49bbbb5ffa52",
   "metadata": {},
   "outputs": [
    {
     "data": {
      "text/plain": [
       "<module 'calibration_utils' from '/home/tom/Documents/UNT/csce6260/projects/kitti-experiments/fusion/calibration_utils.py'>"
      ]
     },
     "execution_count": 2,
     "metadata": {},
     "output_type": "execute_result"
    }
   ],
   "source": [
    "import utils\n",
    "import calibration_utils\n",
    "\n",
    "import importlib\n",
    "importlib.reload(utils)\n",
    "importlib.reload(calibration_utils)"
   ]
  },
  {
   "cell_type": "code",
   "execution_count": 3,
   "id": "257d2cef-0314-44e1-bc75-ebf5e93e6c8f",
   "metadata": {},
   "outputs": [],
   "source": [
    "base = Path.home() / \"kitti\"\n",
    "train_dir = base / \"training\"\n",
    "train_labels_dir = train_dir / \"label_2\"\n",
    "kitti_train_labels = sorted(train_labels_dir.glob(\"*.txt\"))\n",
    "velo_dir = train_dir / \"velodyne\"\n",
    "point_cloud_train_files = sorted(velo_dir.glob(\"*.bin\"))\n",
    "calib_dir = train_dir / \"calib\"\n",
    "calib_train_files = sorted(calib_dir.glob(\"*.txt\"))"
   ]
  },
  {
   "cell_type": "code",
   "execution_count": 7,
   "id": "09309baf-5138-4f4e-b322-d615e041f58b",
   "metadata": {},
   "outputs": [
    {
     "name": "stdout",
     "output_type": "stream",
     "text": [
      "[Open3D DEBUG] Precompute neighbors.\n",
      "[Open3D DEBUG] Done Precompute neighbors.\n",
      "[Open3D DEBUG] Compute Clusters\n",
      "[Open3D DEBUG] Done Compute Clusters: 5\n",
      "[Open3D DEBUG] Precompute neighbors.\n",
      "[Open3D DEBUG] Done Precompute neighbors.\n",
      "[Open3D DEBUG] Compute Clusters\n",
      "[Open3D DEBUG] Done Compute Clusters: 2\n",
      "[Open3D DEBUG] Precompute neighbors.\n",
      "[Open3D DEBUG] Done Precompute neighbors.\n",
      "[Open3D DEBUG] Compute Clusters\n",
      "[Open3D DEBUG] Done Compute Clusters: 3\n",
      "[Open3D DEBUG] Precompute neighbors.\n",
      "[Open3D DEBUG] Done Precompute neighbors.\n",
      "[Open3D DEBUG] Compute Clusters\n",
      "[Open3D DEBUG] Done Compute Clusters: 1\n",
      "[Open3D DEBUG] Precompute neighbors.\n",
      "[Open3D DEBUG] Done Precompute neighbors.\n",
      "[Open3D DEBUG] Compute Clusters\n",
      "[Open3D DEBUG] Done Compute Clusters: 1\n",
      "[Open3D DEBUG] Precompute neighbors.\n",
      "[Open3D DEBUG] Done Precompute neighbors.\n",
      "[Open3D DEBUG] Compute Clusters\n",
      "[Open3D DEBUG] Done Compute Clusters: 3\n",
      "[38, 10, 12, 10, 10]\n",
      "[43, 34]\n",
      "[141, 14, 11]\n",
      "Precompute neighbors.[========================================] 100%\n",
      "[20]ompute neighbors.[=============>                          ] 32%\n",
      "Precompute neighbors.[==========================[25]          ] 67%\n",
      "Precompute neighbors.[========================================] 100%\n",
      "Precompute neighbors.[===>                                    ][11, 34, 16]\n",
      "Precompute neighbors.[========================================] 100%\n",
      "Precompute neighbors.[========================================] 100%\n",
      "Precompute neighbors.[========================================] 100%\n",
      "Precompute neighbors.[========================================] 100%\n",
      "Precompute neighbors.[========================================] 100%\n",
      "Clustering[=============>                          ] 32%"
     ]
    }
   ],
   "source": [
    "def get_point_cloud(points_velo):\n",
    "    cloud = o3d.geometry.PointCloud()\n",
    "    cloud.points = o3d.utility.Vector3dVector(points_velo[:, :3])\n",
    "    return cloud\n",
    "\n",
    "def downsample(cloud):\n",
    "    cloud = cloud.voxel_down_sample(voxel_size=0.2)\n",
    "    return cloud\n",
    "\n",
    "def segment(cloud):\n",
    "    plane_model, inliers = cloud.segment_plane(distance_threshold=0.3, ransac_n=3, num_iterations=150)\n",
    "    outlier_cloud = cloud.select_by_index(inliers, invert=True)\n",
    "    return outlier_cloud\n",
    "\n",
    "def get_downsampled_point_cloud(points_velo):\n",
    "    cloud = get_point_cloud(points_velo)\n",
    "    cloud = downsample(cloud)\n",
    "    cloud = segment(cloud)\n",
    "    return cloud\n",
    "\n",
    "def depth_filter(cloud):\n",
    "    cloud_points = np.array(cloud.points)\n",
    "    mask_in_front = cloud_points[:, 0] > 0\n",
    "    cloud_points_in_cam_front = cloud_points[mask_in_front]\n",
    "    return cloud_points_in_cam_front\n",
    "\n",
    "def get_points_uv(cloud_points_in_cam_front, calib):\n",
    "    points_uv = calibration_utils.convert_to_img_coords(cloud_points_in_cam_front, calib)\n",
    "    return points_uv[:, :2]\n",
    "\n",
    "def get_labels(label_file_path):\n",
    "    labels = utils.parse_label_file(label_file_path)\n",
    "    labels = [label for label in labels if label['type'] in ['Car', 'Pedestrian', 'Cyclist']]\n",
    "    return labels\n",
    "\n",
    "def get_mask_frustums(points_uv, labels):\n",
    "    mask_frustums = []\n",
    "    u, v = points_uv[:, 0], points_uv[:, 1]\n",
    "    valid_mask = np.isfinite(u) & np.isfinite(v)\n",
    "    for label in labels:\n",
    "        xmin, ymin, xmax, ymax = label['bbox_2d']\n",
    "        mask_frustum = (u >= xmin) & (u <= xmax) & (v >= ymin) & (v <= ymax)\n",
    "        mask_frustum = mask_frustum & valid_mask\n",
    "        mask_frustums.append(mask_frustum)\n",
    "    return mask_frustums\n",
    "\n",
    "def extract_frustum_points(mask_frustums, cloud_points_in_cam_front):\n",
    "    frustum_points = []\n",
    "    for mask_frustum in mask_frustums:\n",
    "        points = cloud_points_in_cam_front[mask_frustum]\n",
    "        frustum_points.append(points)\n",
    "    return frustum_points\n",
    "\n",
    "def get_frustum(points):\n",
    "    frustum = o3d.geometry.PointCloud()\n",
    "    frustum.points = o3d.utility.Vector3dVector(points[:, :3])\n",
    "    return frustum\n",
    "\n",
    "def get_cluster_labels(frustum):\n",
    "    with o3d.utility.VerbosityContextManager(o3d.utility.VerbosityLevel.Debug) as cm:\n",
    "        cluster_labels = np.array(frustum.cluster_dbscan(eps=0.45, min_points=10, print_progress=True))\n",
    "    return cluster_labels\n",
    "\n",
    "def group_cluster_labels(cluster_labels):\n",
    "    valid_mask = cluster_labels != -1\n",
    "    return (\n",
    "        pd.Series(np.arange(len(cluster_labels)))[valid_mask]\n",
    "        .groupby(cluster_labels[valid_mask], sort=False)\n",
    "        .apply(list)\n",
    "        .tolist()\n",
    "    )\n",
    "\n",
    "def get_frustum_with_clusters(points):\n",
    "    frustum = get_frustum(points)\n",
    "    cluster_labels = get_cluster_labels(frustum)\n",
    "    return frustum, group_cluster_labels(cluster_labels)    \n",
    "\n",
    "def get_frustums_with_clusters(frustum_points):\n",
    "    frustums_with_clusters = []\n",
    "    for i, points in enumerate(frustum_points):\n",
    "        frustum, clusters = get_frustum_with_clusters(points)\n",
    "        frustums_with_clusters.append((frustum, clusters,))\n",
    "    return frustums_with_clusters\n",
    "\n",
    "for analysis_file_index in range(100):\n",
    "    bin_path = point_cloud_train_files[analysis_file_index]\n",
    "    points_velo = utils.read_velodyne_bin(bin_path)\n",
    "    cloud = get_downsampled_point_cloud(points_velo)\n",
    "    cloud_points_in_cam_front = depth_filter(cloud)\n",
    "    calib = utils.parse_calib_file(calib_train_files[analysis_file_index])\n",
    "    points_uv = get_points_uv(cloud_points_in_cam_front, calib)\n",
    "    labels = get_labels(kitti_train_labels[analysis_file_index])\n",
    "    mask_frustums = get_mask_frustums(points_uv, labels)\n",
    "    frustum_points = extract_frustum_points(mask_frustums, cloud_points_in_cam_front)\n",
    "    frustums_with_clusters = get_frustums_with_clusters(frustum_points)\n",
    "    break"
   ]
  }
 ],
 "metadata": {
  "kernelspec": {
   "display_name": "Python 3 (ipykernel)",
   "language": "python",
   "name": "python3"
  },
  "language_info": {
   "codemirror_mode": {
    "name": "ipython",
    "version": 3
   },
   "file_extension": ".py",
   "mimetype": "text/x-python",
   "name": "python",
   "nbconvert_exporter": "python",
   "pygments_lexer": "ipython3",
   "version": "3.12.3"
  }
 },
 "nbformat": 4,
 "nbformat_minor": 5
}
